{
 "cells": [
  {
   "cell_type": "code",
   "execution_count": 2,
   "id": "40ba8ed2-207a-4aef-90b1-e47b0976358a",
   "metadata": {},
   "outputs": [],
   "source": [
    "# ==============================\n",
    "# Facial Emotion Recognition (Lightweight)\n",
    "# FER2013 + MobileNetV2 (TensorFlow/Keras)\n",
    "# ==============================\n",
    "\n",
    "import torch\n",
    "import torch.nn as nn\n",
    "import torch.optim as optim\n",
    "from torch.utils.data import Dataset, DataLoader\n",
    "from torchvision import transforms, models\n",
    "import pandas as pd\n",
    "import numpy as np"
   ]
  },
  {
   "cell_type": "code",
   "execution_count": null,
   "id": "e79abaa4-e268-443c-87eb-67abbd52fcdd",
   "metadata": {},
   "outputs": [],
   "source": []
  }
 ],
 "metadata": {
  "kernelspec": {
   "display_name": "Python 3 (ipykernel)",
   "language": "python",
   "name": "python3"
  },
  "language_info": {
   "codemirror_mode": {
    "name": "ipython",
    "version": 3
   },
   "file_extension": ".py",
   "mimetype": "text/x-python",
   "name": "python",
   "nbconvert_exporter": "python",
   "pygments_lexer": "ipython3",
   "version": "3.11.8"
  }
 },
 "nbformat": 4,
 "nbformat_minor": 5
}
